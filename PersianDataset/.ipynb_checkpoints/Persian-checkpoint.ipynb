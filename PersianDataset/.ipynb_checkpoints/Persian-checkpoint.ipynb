{
 "cells": [
  {
   "cell_type": "code",
   "execution_count": 2,
   "metadata": {
    "_cell_guid": "b1076dfc-b9ad-4769-8c92-a6c4dae69d19",
    "_uuid": "8f2839f25d086af736a60e9eeb907d3b93b6e0e5",
    "execution": {
     "iopub.execute_input": "2022-02-06T14:57:15.768818Z",
     "iopub.status.busy": "2022-02-06T14:57:15.768224Z",
     "iopub.status.idle": "2022-02-06T14:57:20.679958Z",
     "shell.execute_reply": "2022-02-06T14:57:20.679221Z",
     "shell.execute_reply.started": "2022-02-06T14:57:15.768731Z"
    }
   },
   "outputs": [],
   "source": [
    "import seaborn as sns\n",
    "import numpy as np \n",
    "import pandas as pd \n",
    "import matplotlib.pyplot as plt\n",
    "import cv2\n",
    "import tensorflow as tf\n",
    "from PIL import Image\n",
    "import os\n",
    "from sklearn.model_selection import train_test_split\n",
    "from keras.utils import to_categorical\n",
    "from keras.models import Sequential, load_model\n",
    "from keras.layers import Conv2D, MaxPool2D, Dense, Flatten, Dropout\n",
    "from keras.optimizers import SGD"
   ]
  },
  {
   "cell_type": "code",
   "execution_count": 3,
   "metadata": {
    "execution": {
     "iopub.execute_input": "2022-02-06T14:57:20.681831Z",
     "iopub.status.busy": "2022-02-06T14:57:20.681595Z",
     "iopub.status.idle": "2022-02-06T14:57:20.708314Z",
     "shell.execute_reply": "2022-02-06T14:57:20.70766Z",
     "shell.execute_reply.started": "2022-02-06T14:57:20.681798Z"
    }
   },
   "outputs": [],
   "source": [
    "train_df=pd.read_csv('./train.csv')"
   ]
  },
  {
   "cell_type": "code",
   "execution_count": 4,
   "metadata": {
    "execution": {
     "iopub.execute_input": "2022-02-06T14:57:20.711324Z",
     "iopub.status.busy": "2022-02-06T14:57:20.710775Z",
     "iopub.status.idle": "2022-02-06T14:57:20.728159Z",
     "shell.execute_reply": "2022-02-06T14:57:20.727535Z",
     "shell.execute_reply.started": "2022-02-06T14:57:20.711294Z"
    }
   },
   "outputs": [
    {
     "data": {
      "text/plain": [
       "(43, 2)"
      ]
     },
     "execution_count": 4,
     "metadata": {},
     "output_type": "execute_result"
    }
   ],
   "source": [
    "train_df.head()\n",
    "train_df.shape"
   ]
  },
  {
   "cell_type": "code",
   "execution_count": 8,
   "metadata": {
    "execution": {
     "iopub.execute_input": "2022-02-06T14:57:20.731158Z",
     "iopub.status.busy": "2022-02-06T14:57:20.730488Z",
     "iopub.status.idle": "2022-02-06T14:57:21.629021Z",
     "shell.execute_reply": "2022-02-06T14:57:21.628376Z",
     "shell.execute_reply.started": "2022-02-06T14:57:20.731119Z"
    }
   },
   "outputs": [
    {
     "name": "stdout",
     "output_type": "stream",
     "text": [
      "(14405, 30, 30, 3) (14405,) 14405\n",
      "0\n"
     ]
    }
   ],
   "source": [
    "data = []\n",
    "labels = []\n",
    "classes = 43\n",
    "cur_path = os.getcwd()\n",
    "j=0\n",
    "#Retrieving the images and their labels \n",
    "k=0\n",
    "for i in range(classes):\n",
    "    path = os.path.join(cur_path,'train',str(i))\n",
    "    images = os.listdir(path)\n",
    "    \n",
    "    for a in images:\n",
    "        try:\n",
    "            image = Image.open('./train/'+str(i)+'/'+ a)\n",
    "            image = image.resize((30,30))\n",
    "            image = np.array(image)\n",
    "            #sim = Image.fromarray(image)\n",
    "            data.append(image)\n",
    "            labels.append(i)\n",
    "            k = k + 1\n",
    "        except:\n",
    "            # print(\"Error loading image\")\n",
    "            j=j+1\n",
    "\n",
    "#Converting lists into numpy arrays\n",
    "data = np.array(data)\n",
    "labels = np.array(labels)\n",
    "\n",
    "print(data.shape, labels.shape, k)\n",
    "# Number of Error image\n",
    "print(j)"
   ]
  },
  {
   "cell_type": "code",
   "execution_count": 10,
   "metadata": {},
   "outputs": [
    {
     "name": "stdout",
     "output_type": "stream",
     "text": [
      "(11524, 30, 30, 3) (2881, 30, 30, 3) (11524,) (2881,)\n"
     ]
    }
   ],
   "source": [
    "#Splitting training and testing dataset\n",
    "X_train, X_test, y_train, y_test = train_test_split(data, labels, test_size=0.2, random_state=42)\n",
    "\n",
    "print(X_train.shape, X_test.shape, y_train.shape, y_test.shape)\n",
    "y_test_labels = y_test\n",
    "#Converting the labels into one hot encoding\n",
    "y_train = to_categorical(y_train, 43)\n",
    "y_test = to_categorical(y_test, 43)"
   ]
  },
  {
   "cell_type": "code",
   "execution_count": 11,
   "metadata": {},
   "outputs": [
    {
     "name": "stdout",
     "output_type": "stream",
     "text": [
      "(30, 30, 3)\n",
      "(2881, 43)\n"
     ]
    }
   ],
   "source": [
    "print(X_test[0].shape)\n",
    "print(y_test.shape)"
   ]
  },
  {
   "cell_type": "code",
   "execution_count": 13,
   "metadata": {},
   "outputs": [
    {
     "name": "stdout",
     "output_type": "stream",
     "text": [
      "Epoch 1/20\n",
      "361/361 [==============================] - 3s 7ms/step - loss: 2.4288 - accuracy: 0.4424 - val_loss: 1.1145 - val_accuracy: 0.7178\n",
      "Epoch 2/20\n",
      "361/361 [==============================] - 2s 6ms/step - loss: 0.9546 - accuracy: 0.7462 - val_loss: 0.9270 - val_accuracy: 0.7494\n",
      "Epoch 3/20\n",
      "361/361 [==============================] - 2s 6ms/step - loss: 0.6817 - accuracy: 0.8135 - val_loss: 0.6710 - val_accuracy: 0.8376\n",
      "Epoch 4/20\n",
      "361/361 [==============================] - 2s 6ms/step - loss: 0.5156 - accuracy: 0.8606 - val_loss: 0.6082 - val_accuracy: 0.8410\n",
      "Epoch 5/20\n",
      "361/361 [==============================] - 2s 6ms/step - loss: 0.3975 - accuracy: 0.8917 - val_loss: 0.4813 - val_accuracy: 0.8796\n",
      "Epoch 6/20\n",
      "361/361 [==============================] - 2s 5ms/step - loss: 0.2992 - accuracy: 0.9175 - val_loss: 0.5068 - val_accuracy: 0.8785\n",
      "Epoch 7/20\n",
      "361/361 [==============================] - 2s 5ms/step - loss: 0.2492 - accuracy: 0.9305 - val_loss: 0.4490 - val_accuracy: 0.9039\n",
      "Epoch 8/20\n",
      "361/361 [==============================] - 2s 6ms/step - loss: 0.1982 - accuracy: 0.9435 - val_loss: 0.4920 - val_accuracy: 0.8986\n",
      "Epoch 9/20\n",
      "361/361 [==============================] - 2s 6ms/step - loss: 0.1599 - accuracy: 0.9564 - val_loss: 0.4838 - val_accuracy: 0.9035\n",
      "Epoch 10/20\n",
      "361/361 [==============================] - 2s 6ms/step - loss: 0.1237 - accuracy: 0.9642 - val_loss: 0.6150 - val_accuracy: 0.8858\n",
      "Epoch 11/20\n",
      "361/361 [==============================] - 2s 6ms/step - loss: 0.1404 - accuracy: 0.9624 - val_loss: 0.4959 - val_accuracy: 0.9066\n",
      "Epoch 12/20\n",
      "361/361 [==============================] - 2s 6ms/step - loss: 0.1117 - accuracy: 0.9689 - val_loss: 0.5017 - val_accuracy: 0.9000\n",
      "Epoch 13/20\n",
      "361/361 [==============================] - 2s 6ms/step - loss: 0.0846 - accuracy: 0.9755 - val_loss: 0.4796 - val_accuracy: 0.9236\n",
      "Epoch 14/20\n",
      "361/361 [==============================] - 2s 5ms/step - loss: 0.0980 - accuracy: 0.9738 - val_loss: 0.5099 - val_accuracy: 0.9125\n",
      "Epoch 15/20\n",
      "361/361 [==============================] - 2s 4ms/step - loss: 0.0751 - accuracy: 0.9792 - val_loss: 0.5346 - val_accuracy: 0.9184\n",
      "Epoch 16/20\n",
      "361/361 [==============================] - 2s 5ms/step - loss: 0.0491 - accuracy: 0.9875 - val_loss: 0.6414 - val_accuracy: 0.9087\n",
      "Epoch 17/20\n",
      "361/361 [==============================] - 2s 5ms/step - loss: 0.0322 - accuracy: 0.9918 - val_loss: 0.6439 - val_accuracy: 0.9216\n",
      "Epoch 18/20\n",
      "361/361 [==============================] - 2s 6ms/step - loss: 0.0363 - accuracy: 0.9898 - val_loss: 0.5561 - val_accuracy: 0.9271\n",
      "Epoch 19/20\n",
      "361/361 [==============================] - 2s 6ms/step - loss: 0.0300 - accuracy: 0.9916 - val_loss: 0.5392 - val_accuracy: 0.9275\n",
      "Epoch 20/20\n",
      "361/361 [==============================] - 2s 6ms/step - loss: 0.0228 - accuracy: 0.9935 - val_loss: 0.6762 - val_accuracy: 0.9188\n"
     ]
    }
   ],
   "source": [
    "model_r = Sequential()\n",
    "model_r.add(Conv2D(filters=16, kernel_size=(3,3),strides=(2,2), activation='relu', input_shape=X_train.shape[1:]))\n",
    "model_r.add(Conv2D(filters=32, kernel_size=(3, 3),strides=(2,2), activation='relu'))\n",
    "model_r.add(Conv2D(filters=64, kernel_size=(3, 3),strides=(2,2), activation='relu'))\n",
    "model_r.add(Flatten())\n",
    "model_r.add(Dense(512, activation='relu'))\n",
    "model_r.add(Dense(43, activation='softmax'))\n",
    "\n",
    "#Compilation of the model\n",
    "sgd = SGD(learning_rate=0.001, decay=1e-6, momentum=0.9, nesterov=True)\n",
    "model_r.compile(loss='categorical_crossentropy', optimizer=sgd, metrics=['accuracy'])\n",
    "\n",
    "epochs = 20\n",
    "history_relu = model_r.fit(X_train, y_train, batch_size=32, epochs=epochs, validation_data=(X_test, y_test))"
   ]
  },
  {
   "cell_type": "code",
   "execution_count": 14,
   "metadata": {},
   "outputs": [
    {
     "data": {
      "image/png": "[encoded data removed]",
      "text/plain": [
       "<Figure size 640x480 with 1 Axes>"
      ]
     },
     "metadata": {},
     "output_type": "display_data"
    }
   ],
   "source": [
    "plt.figure(0)\n",
    "plt.plot(history_relu.history['accuracy'], label='training accuracy Relu')\n",
    "plt.title('Accuracy')\n",
    "plt.xlabel('epochs')\n",
    "plt.ylabel('accuracy')\n",
    "plt.legend()\n",
    "plt.show()"
   ]
  },
  {
   "cell_type": "code",
   "execution_count": 15,
   "metadata": {
    "execution": {
     "iopub.execute_input": "2022-02-06T14:57:21.877155Z",
     "iopub.status.busy": "2022-02-06T14:57:21.876721Z",
     "iopub.status.idle": "2022-02-06T14:57:21.883056Z",
     "shell.execute_reply": "2022-02-06T14:57:21.882231Z",
     "shell.execute_reply.started": "2022-02-06T14:57:21.877116Z"
    }
   },
   "outputs": [
    {
     "name": "stdout",
     "output_type": "stream",
     "text": [
      "Model: \"sequential_1\"\n",
      "_________________________________________________________________\n",
      " Layer (type)                Output Shape              Param #   \n",
      "=================================================================\n",
      " conv2d_3 (Conv2D)           (None, 14, 14, 16)        448       \n",
      "                                                                 \n",
      " conv2d_4 (Conv2D)           (None, 6, 6, 32)          4640      \n",
      "                                                                 \n",
      " conv2d_5 (Conv2D)           (None, 2, 2, 64)          18496     \n",
      "                                                                 \n",
      " flatten_1 (Flatten)         (None, 256)               0         \n",
      "                                                                 \n",
      " dense_2 (Dense)             (None, 512)               131584    \n",
      "                                                                 \n",
      " dense_3 (Dense)             (None, 43)                22059     \n",
      "                                                                 \n",
      "=================================================================\n",
      "Total params: 177,227\n",
      "Trainable params: 177,227\n",
      "Non-trainable params: 0\n",
      "_________________________________________________________________\n"
     ]
    }
   ],
   "source": [
    "model_r.summary()\n"
   ]
  },
  {
   "cell_type": "code",
   "execution_count": 16,
   "metadata": {},
   "outputs": [
    {
     "name": "stdout",
     "output_type": "stream",
     "text": [
      "91/91 [==============================] - 0s 2ms/step\n"
     ]
    }
   ],
   "source": [
    "predict_x=model_r.predict(X_test) \n",
    "classes_x=np.argmax(predict_x,axis=1)"
   ]
  },
  {
   "cell_type": "code",
   "execution_count": 17,
   "metadata": {},
   "outputs": [],
   "source": [
    "y_labels=[]\n",
    "for value in y_test_labels:\n",
    "    y_labels.append(int(value))"
   ]
  },
  {
   "cell_type": "code",
   "execution_count": 18,
   "metadata": {},
   "outputs": [
    {
     "name": "stdout",
     "output_type": "stream",
     "text": [
      "0.9187782020131898\n"
     ]
    }
   ],
   "source": [
    "from sklearn.metrics import accuracy_score, confusion_matrix\n",
    "print(accuracy_score(y_labels, classes_x))"
   ]
  }
 ],
 "metadata": {
  "kernelspec": {
   "display_name": "Python 3 (ipykernel)",
   "language": "python",
   "name": "python3"
  },
  "language_info": {
   "codemirror_mode": {
    "name": "ipython",
    "version": 3
   },
   "file_extension": ".py",
   "mimetype": "text/x-python",
   "name": "python",
   "nbconvert_exporter": "python",
   "pygments_lexer": "ipython3",
   "version": "3.9.13"
  }
 },
 "nbformat": 4,
 "nbformat_minor": 4
}
